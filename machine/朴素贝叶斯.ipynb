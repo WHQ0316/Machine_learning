{
 "cells": [
  {
   "cell_type": "markdown",
   "source": [
    "# 朴素贝叶斯\n",
    "---"
   ],
   "metadata": {
    "collapsed": false
   },
   "id": "590b707736c97fc9"
  },
  {
   "cell_type": "code",
   "outputs": [],
   "source": [
    "import pandas as pd\n",
    "import numpy as np\n",
    "#import sklearn\n",
    "from sklearn.datasets import load_iris"
   ],
   "metadata": {
    "collapsed": false,
    "ExecuteTime": {
     "end_time": "2024-11-17T11:07:28.547335Z",
     "start_time": "2024-11-17T11:07:23.448846Z"
    }
   },
   "id": "ffac08b0a21fb837",
   "execution_count": 1
  },
  {
   "cell_type": "markdown",
   "source": [
    "---\n",
    "### 导入数据"
   ],
   "metadata": {
    "collapsed": false
   },
   "id": "2e2a7cbfaf700d41"
  },
  {
   "cell_type": "code",
   "outputs": [],
   "source": [
    "iris = load_iris()\n",
    "X = iris.data\n",
    "y = iris.target"
   ],
   "metadata": {
    "collapsed": false,
    "ExecuteTime": {
     "end_time": "2024-11-17T11:07:48.928219Z",
     "start_time": "2024-11-17T11:07:48.890291Z"
    }
   },
   "id": "6fc867aecef349e7",
   "execution_count": 2
  },
  {
   "cell_type": "code",
   "outputs": [
    {
     "data": {
      "text/plain": "(150, 4)"
     },
     "execution_count": 4,
     "metadata": {},
     "output_type": "execute_result"
    }
   ],
   "source": [
    "X.shape"
   ],
   "metadata": {
    "collapsed": false,
    "ExecuteTime": {
     "end_time": "2024-11-17T11:08:10.087103Z",
     "start_time": "2024-11-17T11:08:10.068154Z"
    }
   },
   "id": "e07d44c2f70b6b76",
   "execution_count": 4
  },
  {
   "cell_type": "markdown",
   "source": [
    "---\n",
    "### 划分数据集"
   ],
   "metadata": {
    "collapsed": false
   },
   "id": "fbeec4049be1ab63"
  },
  {
   "cell_type": "code",
   "outputs": [],
   "source": [
    "from sklearn.model_selection import train_test_split\n",
    "X_train, X_test, y_train, y_test = train_test_split(X, y, test_size=0.3)"
   ],
   "metadata": {
    "collapsed": false,
    "ExecuteTime": {
     "end_time": "2024-11-17T11:10:14.285308Z",
     "start_time": "2024-11-17T11:10:13.992233Z"
    }
   },
   "id": "7c0e6d7fe8f18744",
   "execution_count": 5
  },
  {
   "cell_type": "code",
   "outputs": [
    {
     "data": {
      "text/plain": "(105, 4)"
     },
     "execution_count": 7,
     "metadata": {},
     "output_type": "execute_result"
    }
   ],
   "source": [
    "X_train.shape"
   ],
   "metadata": {
    "collapsed": false,
    "ExecuteTime": {
     "end_time": "2024-11-17T11:10:28.919150Z",
     "start_time": "2024-11-17T11:10:28.899438Z"
    }
   },
   "id": "2ca40eb9149d6b8b",
   "execution_count": 7
  },
  {
   "cell_type": "markdown",
   "source": [
    "---\n",
    "## 贝叶斯分类"
   ],
   "metadata": {
    "collapsed": false
   },
   "id": "8da3022d426e86c6"
  },
  {
   "cell_type": "code",
   "outputs": [
    {
     "name": "stdout",
     "output_type": "stream",
     "text": [
      "预测值 [1 1 1 2 0 1 0 2 0 2 1 0 2 0 0 0 1 1 1 1 0 0 0 2 2 2 1 0 1 2 1 0 1 0 1 2 0\n",
      " 2 0 2 1 1 1 2 2]\n",
      "真实值 [1 1 1 2 0 1 0 2 0 2 1 0 2 0 0 0 1 1 1 1 0 0 0 2 1 2 1 0 1 2 1 0 1 0 1 2 0\n",
      " 2 0 2 1 1 1 2 2]\n",
      "Gaussian Train Score: 0.9428571428571428\n",
      "Gaussian Test Score: 0.9777777777777777\n"
     ]
    }
   ],
   "source": [
    "from sklearn.naive_bayes import GaussianNB  # 高斯朴素贝叶斯\n",
    "\n",
    "clf1 = GaussianNB()\n",
    "clf1.fit(X_train, y_train)\n",
    "y_pred1 = clf1.predict(X_test)\n",
    "print('预测值',y_pred1)\n",
    "print('真实值',y_test)\n",
    "print('Gaussian Train Score:', clf1.score(X_train, y_train))\n",
    "print('Gaussian Test Score:', clf1.score(X_test, y_test))"
   ],
   "metadata": {
    "collapsed": false,
    "ExecuteTime": {
     "end_time": "2024-11-17T11:18:23.504704Z",
     "start_time": "2024-11-17T11:18:23.486735Z"
    }
   },
   "id": "300a0e738597fb5",
   "execution_count": 9
  },
  {
   "cell_type": "markdown",
   "source": [
    "---"
   ],
   "metadata": {
    "collapsed": false
   },
   "id": "9db2b56684fffd8d"
  },
  {
   "cell_type": "code",
   "outputs": [
    {
     "name": "stdout",
     "output_type": "stream",
     "text": [
      "预测值 [2 2 2 2 0 2 0 2 0 2 2 0 2 0 0 0 2 1 2 2 0 0 0 2 2 2 2 0 2 2 2 0 2 0 2 2 0\n",
      " 2 0 2 2 2 2 2 2]\n",
      "真实值 [1 1 1 2 0 1 0 2 0 2 1 0 2 0 0 0 1 1 1 1 0 0 0 2 1 2 1 0 1 2 1 0 1 0 1 2 0\n",
      " 2 0 2 1 1 1 2 2]\n",
      "Gaussian Train Score: 0.6952380952380952\n",
      "Gaussian Test Score: 0.6222222222222222\n"
     ]
    }
   ],
   "source": [
    "from sklearn.naive_bayes import MultinomialNB # Multinomial贝叶斯\n",
    "\n",
    "clf2 = MultinomialNB()\n",
    "clf2.fit(X_train, y_train)\n",
    "y_pred2 = clf2.predict(X_test)\n",
    "print('预测值',y_pred2)\n",
    "print('真实值',y_test)\n",
    "print('Gaussian Train Score:', clf2.score(X_train, y_train))\n",
    "print('Gaussian Test Score:', clf2.score(X_test, y_test))"
   ],
   "metadata": {
    "collapsed": false,
    "ExecuteTime": {
     "end_time": "2024-11-17T11:18:37.518476Z",
     "start_time": "2024-11-17T11:18:37.404670Z"
    }
   },
   "id": "86ee8161f3e3a941",
   "execution_count": 10
  },
  {
   "cell_type": "markdown",
   "source": [
    "---"
   ],
   "metadata": {
    "collapsed": false
   },
   "id": "49e40857caffba9"
  },
  {
   "cell_type": "code",
   "outputs": [
    {
     "name": "stdout",
     "output_type": "stream",
     "text": [
      "预测值 [2 2 2 2 2 2 2 2 2 2 2 2 2 2 2 2 2 2 2 2 2 2 2 2 2 2 2 2 2 2 2 2 2 2 2 2 2\n",
      " 2 2 2 2 2 2 2 2]\n",
      "真实值 [1 1 1 2 0 1 0 2 0 2 1 0 2 0 0 0 1 1 1 1 0 0 0 2 1 2 1 0 1 2 1 0 1 0 1 2 0\n",
      " 2 0 2 1 1 1 2 2]\n",
      "Gaussian Train Score: 0.3619047619047619\n",
      "Gaussian Test Score: 0.26666666666666666\n"
     ]
    }
   ],
   "source": [
    "from sklearn.naive_bayes import BernoulliNB # 伯努利贝叶斯\n",
    "\n",
    "clf3 = BernoulliNB()\n",
    "clf3.fit(X_train, y_train)\n",
    "y_pred3 = clf3.predict(X_test)\n",
    "print('预测值',y_pred3)\n",
    "print('真实值',y_test)\n",
    "print('Gaussian Train Score:', clf3.score(X_train, y_train))\n",
    "print('Gaussian Test Score:', clf3.score(X_test, y_test))"
   ],
   "metadata": {
    "collapsed": false,
    "ExecuteTime": {
     "end_time": "2024-11-17T11:20:14.393771Z",
     "start_time": "2024-11-17T11:20:14.382802Z"
    }
   },
   "id": "e3f91a7829bf1a0d",
   "execution_count": 11
  },
  {
   "cell_type": "markdown",
   "source": [
    "---\n",
    "### KNN"
   ],
   "metadata": {
    "collapsed": false
   },
   "id": "fa55712320a05d30"
  },
  {
   "cell_type": "code",
   "outputs": [
    {
     "name": "stdout",
     "output_type": "stream",
     "text": [
      "预测值 [1 1 1 2 0 1 0 2 0 2 1 0 2 0 0 0 2 1 1 1 0 0 0 2 2 2 1 0 1 2 1 0 1 0 1 2 0\n",
      " 2 0 2 1 1 1 2 2]\n",
      "真实值 [1 1 1 2 0 1 0 2 0 2 1 0 2 0 0 0 1 1 1 1 0 0 0 2 1 2 1 0 1 2 1 0 1 0 1 2 0\n",
      " 2 0 2 1 1 1 2 2]\n",
      "Gaussian Train Score: 0.9809523809523809\n",
      "Gaussian Test Score: 0.9555555555555556\n"
     ]
    }
   ],
   "source": [
    "from sklearn.neighbors import KNeighborsClassifier\n",
    "clf4 = KNeighborsClassifier(n_neighbors=5)  # K值不能超过样本个数\n",
    "clf4.fit(X_train, y_train)\n",
    "y_pred4 = clf4.predict(X_test)\n",
    "print('预测值',y_pred4)\n",
    "print('真实值',y_test)\n",
    "print('Gaussian Train Score:', clf4.score(X_train, y_train))\n",
    "print('Gaussian Test Score:', clf4.score(X_test, y_test))"
   ],
   "metadata": {
    "collapsed": false,
    "ExecuteTime": {
     "end_time": "2024-11-17T11:27:26.065459Z",
     "start_time": "2024-11-17T11:27:26.030781Z"
    }
   },
   "id": "5e461d0f0a029197",
   "execution_count": 15
  },
  {
   "cell_type": "code",
   "outputs": [],
   "source": [],
   "metadata": {
    "collapsed": false
   },
   "id": "30ca36db1f70d4ee"
  }
 ],
 "metadata": {
  "kernelspec": {
   "display_name": "Python 3",
   "language": "python",
   "name": "python3"
  },
  "language_info": {
   "codemirror_mode": {
    "name": "ipython",
    "version": 2
   },
   "file_extension": ".py",
   "mimetype": "text/x-python",
   "name": "python",
   "nbconvert_exporter": "python",
   "pygments_lexer": "ipython2",
   "version": "2.7.6"
  }
 },
 "nbformat": 4,
 "nbformat_minor": 5
}
