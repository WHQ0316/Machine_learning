{
 "cells": [
  {
   "cell_type": "markdown",
   "source": [
    "# SVM "
   ],
   "metadata": {
    "collapsed": false
   },
   "id": "db8b96c3392039df"
  },
  {
   "cell_type": "markdown",
   "source": [
    "---\n",
    "## 导入数据"
   ],
   "metadata": {
    "collapsed": false
   },
   "id": "30f2c978740a97ca"
  },
  {
   "cell_type": "code",
   "execution_count": 4,
   "id": "initial_id",
   "metadata": {
    "collapsed": true,
    "ExecuteTime": {
     "end_time": "2024-11-17T12:51:49.758275Z",
     "start_time": "2024-11-17T12:51:49.748302Z"
    }
   },
   "outputs": [],
   "source": [
    "from itertools import cycle\n",
    "\n",
    "import numpy as np\n",
    "from matplotlib.colors import ListedColormap\n",
    "from sklearn.datasets import load_iris\n",
    "iris = load_iris()"
   ]
  },
  {
   "cell_type": "code",
   "outputs": [],
   "source": [
    "X = iris.data[:,[2,3]]   # 这里用两个特征，方便可视化\n",
    "y = iris.target"
   ],
   "metadata": {
    "collapsed": false,
    "ExecuteTime": {
     "end_time": "2024-11-17T12:49:55.906962Z",
     "start_time": "2024-11-17T12:49:55.887450Z"
    }
   },
   "id": "96fa52f1848f9fc9",
   "execution_count": 2
  },
  {
   "cell_type": "code",
   "outputs": [],
   "source": [
    "from sklearn.model_selection import train_test_split\n",
    "X_train, X_test, y_train, y_test = train_test_split(X, y, test_size=0.3)"
   ],
   "metadata": {
    "collapsed": false,
    "ExecuteTime": {
     "end_time": "2024-11-17T12:50:28.150465Z",
     "start_time": "2024-11-17T12:50:28.090650Z"
    }
   },
   "id": "ad32b188185830ee",
   "execution_count": 3
  },
  {
   "cell_type": "markdown",
   "source": [
    "---\n",
    "## 模型"
   ],
   "metadata": {
    "collapsed": false
   },
   "id": "c7b1598f8ec512bb"
  },
  {
   "cell_type": "code",
   "outputs": [
    {
     "name": "stdout",
     "output_type": "stream",
     "text": [
      "训练集： 0.9619047619047619\n",
      "测试集： 0.9555555555555556\n",
      "分类错误的个数 2\n"
     ]
    }
   ],
   "source": [
    "import sklearn\n",
    "from sklearn.svm import SVC\n",
    "svm = SVC(kernel='linear', C=1.0, gamma='auto',random_state=1)\n",
    "svm.fit(X_train, y_train)\n",
    "\n",
    "pred = svm.predict(X_test)\n",
    "print('训练集：',svm.score(X_train, y_train))\n",
    "print('测试集：',svm.score(X_test, y_test))\n",
    "print('分类错误的个数',(y_test != pred).sum())"
   ],
   "metadata": {
    "collapsed": false,
    "ExecuteTime": {
     "end_time": "2024-11-17T13:11:41.389141Z",
     "start_time": "2024-11-17T13:11:41.377142Z"
    }
   },
   "id": "9c4cebc068862a2d",
   "execution_count": 9
  }
 ],
 "metadata": {
  "kernelspec": {
   "display_name": "Python 3",
   "language": "python",
   "name": "python3"
  },
  "language_info": {
   "codemirror_mode": {
    "name": "ipython",
    "version": 2
   },
   "file_extension": ".py",
   "mimetype": "text/x-python",
   "name": "python",
   "nbconvert_exporter": "python",
   "pygments_lexer": "ipython2",
   "version": "2.7.6"
  }
 },
 "nbformat": 4,
 "nbformat_minor": 5
}
