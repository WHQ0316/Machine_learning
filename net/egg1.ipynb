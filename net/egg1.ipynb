{
 "cells": [
  {
   "cell_type": "markdown",
   "source": [
    "egg1(案例一)"
   ],
   "metadata": {
    "collapsed": false
   },
   "id": "944f19a2fe69716b"
  },
  {
   "cell_type": "code",
   "outputs": [],
   "source": [
    "# --------导入库文件-------------\n",
    "import torch\n",
    "import torch.nn as nn\n",
    "from torch.utils.data import Dataset , DataLoader"
   ],
   "metadata": {
    "collapsed": false,
    "ExecuteTime": {
     "end_time": "2024-11-12T02:37:54.436799Z",
     "start_time": "2024-11-12T02:37:54.429817Z"
    }
   },
   "id": "a8a9ce9e5c07c00b",
   "execution_count": 5
  },
  {
   "cell_type": "code",
   "outputs": [],
   "source": [
    "# --------定义数据集--------------\n",
    "def get_rectangle():\n",
    "    import random\n",
    "    width = random.random()\n",
    "    height = random.random()\n",
    "    fat = int(width >= height)\n",
    "    return width, height, fat"
   ],
   "metadata": {
    "collapsed": false,
    "ExecuteTime": {
     "end_time": "2024-11-12T02:37:55.036949Z",
     "start_time": "2024-11-12T02:37:55.017939Z"
    }
   },
   "id": "e5d7ee8a89a6507f",
   "execution_count": 6
  },
  {
   "cell_type": "code",
   "outputs": [
    {
     "name": "stdout",
     "output_type": "stream",
     "text": [
      "(tensor([0.2128, 0.9487]), 0)\n"
     ]
    }
   ],
   "source": [
    "# -----------定义数据集------------\n",
    "class Dataset(Dataset):\n",
    "    # 初始化\n",
    "    def __init__(self):\n",
    "        pass\n",
    "    # 定义数据条数\n",
    "    def __len__(self):\n",
    "        return 500\n",
    "    # 根据序号'i'获取数据\n",
    "    def __getitem__(self, i):\n",
    "        width, height, fat = get_rectangle()\n",
    "        x = torch.FloatTensor([width,height])\n",
    "        y = fat\n",
    "        return x, y\n",
    "data = Dataset()\n",
    "# print(len(data))\n",
    "print(data[0])\n"
   ],
   "metadata": {
    "collapsed": false,
    "ExecuteTime": {
     "end_time": "2024-11-12T03:17:23.146573Z",
     "start_time": "2024-11-12T03:17:23.127752Z"
    }
   },
   "id": "c6b016a699c616ec",
   "execution_count": 10
  },
  {
   "cell_type": "code",
   "outputs": [],
   "source": [
    "#-------------数据加载----------------\n",
    "loader = torch.utils.data.DataLoader(dataset=data,\n",
    "                                     batch_size=8,\n",
    "                                     shuffle=True,\n",
    "                                     drop_last=True)"
   ],
   "metadata": {
    "collapsed": false,
    "ExecuteTime": {
     "end_time": "2024-11-11T12:43:15.645369Z",
     "start_time": "2024-11-11T12:43:15.632570Z"
    }
   },
   "id": "2d2ad4491c47d50c",
   "execution_count": 14
  },
  {
   "cell_type": "code",
   "outputs": [],
   "source": [
    "# --------------定义网络--------------------\n",
    "class model(nn.Module):\n",
    "    def __init__(self):\n",
    "        super().__init__()\n",
    "        # 定义网络结构\n",
    "        self.fc = nn.Sequential(\n",
    "            nn.Linear(2, 32),\n",
    "            nn.ReLU(),\n",
    "            nn.Linear(32, 32),\n",
    "            nn.ReLU(),\n",
    "            nn.Linear(32, 2),\n",
    "            nn.Softmax(dim=1),\n",
    "        )\n",
    "    def forward(self, x):\n",
    "        return self.fc(x)\n",
    "\n",
    "model1 = model()\n",
    "# print(model1(torch.randn(8,2)).shape)"
   ],
   "metadata": {
    "collapsed": false,
    "ExecuteTime": {
     "end_time": "2024-11-11T12:43:15.661489Z",
     "start_time": "2024-11-11T12:43:15.646368Z"
    }
   },
   "id": "6fa72b3bf91a102c",
   "execution_count": 15
  },
  {
   "cell_type": "code",
   "outputs": [
    {
     "name": "stdout",
     "output_type": "stream",
     "text": [
      "|轮数|\t\t|损失|\t\t\t|正确率|\n",
      "0 \t 0.377784788608551 \t 0.875\n",
      "5 \t 0.3168337941169739 \t 1.0\n",
      "10 \t 0.3317144811153412 \t 1.0\n",
      "15 \t 0.34719520807266235 \t 1.0\n",
      "20 \t 0.3343982696533203 \t 1.0\n",
      "25 \t 0.3315106928348541 \t 1.0\n",
      "30 \t 0.34459495544433594 \t 1.0\n",
      "35 \t 0.38232311606407166 \t 1.0\n",
      "40 \t 0.3522217571735382 \t 1.0\n",
      "45 \t 0.31739717721939087 \t 1.0\n",
      "50 \t 0.35837799310684204 \t 1.0\n",
      "55 \t 0.39631372690200806 \t 1.0\n",
      "60 \t 0.36508163809776306 \t 1.0\n",
      "65 \t 0.3311266601085663 \t 1.0\n",
      "70 \t 0.3154153823852539 \t 1.0\n",
      "75 \t 0.32273629307746887 \t 1.0\n",
      "80 \t 0.3431713581085205 \t 1.0\n",
      "85 \t 0.3468303680419922 \t 1.0\n",
      "90 \t 0.3531244695186615 \t 1.0\n",
      "95 \t 0.3151360750198364 \t 1.0\n"
     ]
    }
   ],
   "source": [
    "# ------------训练------------------------\n",
    "def train():\n",
    "    optimizer = torch.optim.Adam(model1.parameters(), lr=1e-4)   # 优化器\n",
    "    loss_function = nn.CrossEntropyLoss()                        # 损失函数\n",
    "    model1.train()                                               # 训练模式\n",
    "    print(\"|轮数|\\t\\t|损失|\\t\\t\\t|正确率|\")\n",
    "    for epoch in range(100):\n",
    "        for i, (x, y) in enumerate(loader):\n",
    "            out = model1(x)\n",
    "            loss = loss_function(out, y)\n",
    "            loss.backward()                                      # 根据loss计算梯度\n",
    "            optimizer.step()                                     # 根据梯度调整模型参数\n",
    "            optimizer.zero_grad()                                # 梯度归零，准备下一轮\n",
    "        if epoch % 5 == 0:\n",
    "            acc = out.argmax(dim=1).eq(y).sum().item() / len(y)  # 计算正确率\n",
    "            print(epoch, '\\t', loss.item(), '\\t', acc)\n",
    "\n",
    "train()"
   ],
   "metadata": {
    "collapsed": false,
    "ExecuteTime": {
     "end_time": "2024-11-11T12:44:51.479887Z",
     "start_time": "2024-11-11T12:44:43.342265Z"
    }
   },
   "id": "5c3a64590850846c",
   "execution_count": 17
  },
  {
   "cell_type": "code",
   "outputs": [],
   "source": [],
   "metadata": {
    "collapsed": false,
    "ExecuteTime": {
     "end_time": "2024-11-11T12:43:23.747347Z",
     "start_time": "2024-11-11T12:43:23.733053Z"
    }
   },
   "id": "bc06a1680dc7ac52",
   "execution_count": 16
  }
 ],
 "metadata": {
  "kernelspec": {
   "display_name": "Python 3",
   "language": "python",
   "name": "python3"
  },
  "language_info": {
   "codemirror_mode": {
    "name": "ipython",
    "version": 2
   },
   "file_extension": ".py",
   "mimetype": "text/x-python",
   "name": "python",
   "nbconvert_exporter": "python",
   "pygments_lexer": "ipython2",
   "version": "2.7.6"
  }
 },
 "nbformat": 4,
 "nbformat_minor": 5
}
