{
 "cells": [
  {
   "cell_type": "markdown",
   "source": [
    "### RNN ----（案例二）股票预测  ( n-1 )"
   ],
   "metadata": {
    "collapsed": false
   },
   "id": "fb70d54aa30864a9"
  },
  {
   "cell_type": "markdown",
   "source": [
    "![这是一个示例图片](rnn.jpg)"
   ],
   "metadata": {
    "collapsed": false
   },
   "id": "b50c11f9e6facad1"
  },
  {
   "cell_type": "markdown",
   "source": [
    "## x[8个数据] ， y[1个数据] 通过前八个预测第九个，以此类推。 --ht[与x数据对应]"
   ],
   "metadata": {
    "collapsed": false
   },
   "id": "e664e9428f1ef74d"
  },
  {
   "cell_type": "code",
   "outputs": [],
   "source": [
    "# 读取数据文件\n",
    "\n",
    "import pandas as pd\n",
    "import numpy as np\n",
    "from torch import nn\n",
    "\n",
    "#--------------------------\n",
    "data = pd.read_csv('zgpa_train.csv')\n",
    "# data.head()\n",
    "#---------------------------\n",
    "price = data.loc[:,'close']\n",
    "#price.head()\n",
    "#------------------------------\n",
    "#归一化\n",
    "price_norm = price-min(price)/max(price)-min(price)\n",
    "# print(price_norm)"
   ],
   "metadata": {
    "collapsed": false,
    "ExecuteTime": {
     "end_time": "2024-11-14T12:57:30.744165Z",
     "start_time": "2024-11-14T12:57:30.726244Z"
    }
   },
   "id": "110f28cb66477c64",
   "execution_count": 38
  },
  {
   "cell_type": "markdown",
   "source": [],
   "metadata": {
    "collapsed": false
   },
   "id": "194d6f2de0a7b41b"
  },
  {
   "cell_type": "markdown",
   "source": [
    "可视化"
   ],
   "metadata": {
    "collapsed": false
   },
   "id": "cffe4e2766d94b97"
  },
  {
   "cell_type": "code",
   "outputs": [
    {
     "data": {
      "text/plain": "<Figure size 400x200 with 1 Axes>",
      "image/png": "[encoded data removed]"
     },
     "metadata": {},
     "output_type": "display_data"
    }
   ],
   "source": [
    "from matplotlib import pyplot as plt\n",
    "# -------------------------------------- 画图(股票价格)\n",
    "fig = plt.figure(figsize=(4, 2))\n",
    "plt.plot(price)\n",
    "plt.title('close price')\n",
    "plt.xlabel('time')\n",
    "plt.ylabel('price')\n",
    "plt.show()"
   ],
   "metadata": {
    "collapsed": false,
    "ExecuteTime": {
     "end_time": "2024-11-14T12:57:30.884563Z",
     "start_time": "2024-11-14T12:57:30.753622Z"
    }
   },
   "id": "7a5eb80e084c2f55",
   "execution_count": 39
  },
  {
   "cell_type": "markdown",
   "source": [],
   "metadata": {
    "collapsed": false
   },
   "id": "da55b75e7d603fa4"
  },
  {
   "cell_type": "markdown",
   "source": [
    "定义数据"
   ],
   "metadata": {
    "collapsed": false
   },
   "id": "4eb2dc14c92b43e3"
  },
  {
   "cell_type": "code",
   "outputs": [],
   "source": [
    "def extract_data(data, time_step):\n",
    "    X = []\n",
    "    # Y = []\n",
    "    for i in range(len(data)-time_step):\n",
    "        X.append([a for a in data[i:i+time_step]])\n",
    "        # Y.append(data[i+time_step])\n",
    "    X = np.array(X)\n",
    "    # Y = np.array(Y)\n",
    "    X = X.reshape(X.shape[0], X.shape[1], 1)\n",
    "    return X"
   ],
   "metadata": {
    "collapsed": false,
    "ExecuteTime": {
     "end_time": "2024-11-14T12:57:30.900170Z",
     "start_time": "2024-11-14T12:57:30.886625Z"
    }
   },
   "id": "dc6fd722b0a4ac20",
   "execution_count": 40
  },
  {
   "cell_type": "code",
   "outputs": [
    {
     "name": "stdout",
     "output_type": "stream",
     "text": [
      "[[4.77451192]\n",
      " [5.22451192]\n",
      " [5.25451192]\n",
      " [4.49451192]\n",
      " [4.66451192]\n",
      " [2.75451192]\n",
      " [2.93451192]\n",
      " [2.71451192]\n",
      " [2.71451192]]\n"
     ]
    }
   ],
   "source": [
    "X= extract_data(price_norm, 9)\n",
    "print(X[0])"
   ],
   "metadata": {
    "collapsed": false,
    "ExecuteTime": {
     "end_time": "2024-11-14T12:57:30.947129Z",
     "start_time": "2024-11-14T12:57:30.901244Z"
    }
   },
   "id": "11e6834a8e6df6d8",
   "execution_count": 41
  },
  {
   "cell_type": "code",
   "outputs": [
    {
     "name": "stdout",
     "output_type": "stream",
     "text": [
      "722\n",
      "torch.Size([8, 1])\n",
      "tensor([2.7145])\n",
      "torch.Size([1])\n"
     ]
    }
   ],
   "source": [
    "import torch\n",
    "# ----------------------------------------------------------数据集\n",
    "class Dataset(torch.utils.data.Dataset):\n",
    "    def __len__(self):\n",
    "        return len(X)\n",
    "    def __getitem__(self,i):\n",
    "        x = torch.from_numpy(X[i][0:8]).float()\n",
    "        y = torch.from_numpy(X[i][8]).float()\n",
    "        # y = torch.from_numpy(y).float()\n",
    "        # y = y.reshape(y.shape[0])\n",
    "        return x,y\n",
    "        \n",
    "dataset = Dataset()\n",
    "print(len(dataset))\n",
    "print(dataset[0][0].shape)\n",
    "print(dataset[0][1])\n",
    "print(dataset[0][1].shape)"
   ],
   "metadata": {
    "collapsed": false,
    "ExecuteTime": {
     "end_time": "2024-11-14T12:57:30.962071Z",
     "start_time": "2024-11-14T12:57:30.949308Z"
    }
   },
   "id": "bf7cd121c6dc1829",
   "execution_count": 42
  },
  {
   "cell_type": "code",
   "outputs": [],
   "source": [
    "#-----------------------------------------------------------------数据集加载\n",
    "loader = torch.utils.data.DataLoader(\n",
    "    dataset = dataset,\n",
    "    batch_size = 8,\n",
    "    shuffle = False,    # 打乱顺序\n",
    "    drop_last = True    # 不能被批处理整除时，最后一个丢弃\n",
    ")"
   ],
   "metadata": {
    "collapsed": false,
    "ExecuteTime": {
     "end_time": "2024-11-14T12:57:30.977594Z",
     "start_time": "2024-11-14T12:57:30.964158Z"
    }
   },
   "id": "f3c72e58bf3abb99",
   "execution_count": 43
  },
  {
   "cell_type": "markdown",
   "source": [
    "#### input_size = 1\n",
    "#### output_size = 1\n",
    "#### hidden_size = 100\n",
    "#### sqe_len = 8\n",
    "#### batch_size = 8"
   ],
   "metadata": {
    "collapsed": false
   },
   "id": "1278b752d49cceb9"
  },
  {
   "cell_type": "code",
   "outputs": [],
   "source": [
    "#### "
   ],
   "metadata": {
    "collapsed": false,
    "ExecuteTime": {
     "end_time": "2024-11-14T12:57:30.993332Z",
     "start_time": "2024-11-14T12:57:30.978722Z"
    }
   },
   "id": "722a05dced2acf3e",
   "execution_count": 44
  },
  {
   "cell_type": "code",
   "outputs": [],
   "source": [
    "from torch import nn\n",
    "#------------------------------------------------------------------定义网络\n",
    "class RNN(nn.Module):\n",
    "    def __init__(self,input_size,hidden_size,output_size):\n",
    "        super(RNN, self).__init__()\n",
    "        self.rnn = nn.RNN(input_size =input_size,\n",
    "                          hidden_size =hidden_size,\n",
    "                          num_layers =1,\n",
    "                          # batch_first =True # [bitch_size, seq, h]\n",
    "                          )\n",
    "        self.fc = nn.Linear(hidden_size,output_size)\n",
    "    def forward(self,x):\n",
    "        h0 = torch.zeros(1,8,100)   # [num_layer,batch_size,hidden_size]\n",
    "        out,hn = self.rnn(x,h0)\n",
    "        out = out = self.fc(out[:,-1,:])\n",
    "        return out\n",
    "#---------------------------------------------------------------\n",
    "rnn = RNN(input_size=1,hidden_size=100, output_size=1) \n"
   ],
   "metadata": {
    "collapsed": false,
    "ExecuteTime": {
     "end_time": "2024-11-14T12:57:31.009263Z",
     "start_time": "2024-11-14T12:57:30.994280Z"
    }
   },
   "id": "11b1e254f168733d",
   "execution_count": 45
  },
  {
   "cell_type": "code",
   "outputs": [
    {
     "name": "stdout",
     "output_type": "stream",
     "text": [
      "|Epoch|-------------|loss|-------------acc\n",
      "-------------------------------------------------------\n",
      "|0|---------|368.4691162109375|---------|0.0|\n",
      "|1|---------|200.127685546875|---------|0.0|\n",
      "|2|---------|94.8821792602539|---------|0.0|\n",
      "|3|---------|39.487754821777344|---------|0.0|\n",
      "|4|---------|12.9785737991333|---------|0.0|\n",
      "|5|---------|3.2543933391571045|---------|0.0|\n",
      "|6|---------|2.5479788780212402|---------|0.0|\n",
      "|7|---------|5.710490703582764|---------|0.0|\n",
      "|8|---------|9.710893630981445|---------|0.0|\n",
      "|9|---------|13.534531593322754|---------|0.0|\n",
      "|10|---------|8.841350555419922|---------|0.0|\n",
      "|11|---------|7.982178688049316|---------|0.0|\n",
      "|12|---------|5.775628089904785|---------|0.0|\n",
      "|13|---------|3.195385456085205|---------|0.0|\n",
      "|14|---------|5.063302040100098|---------|0.0|\n",
      "|15|---------|4.907422065734863|---------|0.0|\n",
      "|16|---------|6.783296585083008|---------|0.0|\n",
      "|17|---------|3.5092620849609375|---------|0.0|\n",
      "|18|---------|1.86388099193573|---------|0.0|\n",
      "|19|---------|1.5051463842391968|---------|0.0|\n",
      "|20|---------|1.456701397895813|---------|0.0|\n",
      "|21|---------|1.0072078704833984|---------|0.0|\n",
      "|22|---------|0.9202977418899536|---------|0.0|\n",
      "|23|---------|0.8914105892181396|---------|0.0|\n",
      "|24|---------|0.9600576758384705|---------|0.0|\n",
      "|25|---------|1.1078664064407349|---------|0.0|\n",
      "|26|---------|1.5436615943908691|---------|0.0|\n",
      "|27|---------|1.934208869934082|---------|0.0|\n",
      "|28|---------|2.260793447494507|---------|0.0|\n",
      "|29|---------|2.4826672077178955|---------|0.0|\n",
      "|30|---------|2.7655792236328125|---------|0.0|\n",
      "|31|---------|2.9657371044158936|---------|0.0|\n",
      "|32|---------|3.2148172855377197|---------|0.0|\n",
      "|33|---------|3.0607030391693115|---------|0.0|\n",
      "|34|---------|2.6210858821868896|---------|0.0|\n",
      "|35|---------|2.1956496238708496|---------|0.0|\n",
      "|36|---------|2.0286426544189453|---------|0.0|\n",
      "|37|---------|1.1163238286972046|---------|0.0|\n",
      "|38|---------|3.5592057704925537|---------|0.0|\n",
      "|39|---------|1.434819221496582|---------|0.0|\n",
      "|40|---------|2.317277431488037|---------|0.0|\n",
      "|41|---------|1.0352604389190674|---------|0.0|\n",
      "|42|---------|4.069348335266113|---------|0.0|\n",
      "|43|---------|1.3789056539535522|---------|0.0|\n",
      "|44|---------|3.106180429458618|---------|0.0|\n",
      "|45|---------|2.6529626846313477|---------|0.0|\n",
      "|46|---------|3.244811773300171|---------|0.0|\n",
      "|47|---------|2.01103138923645|---------|0.0|\n",
      "|48|---------|2.455314874649048|---------|0.0|\n",
      "|49|---------|2.7726006507873535|---------|0.0|\n",
      "|50|---------|3.386608839035034|---------|0.0|\n",
      "|51|---------|4.187434673309326|---------|0.0|\n",
      "|52|---------|2.5605788230895996|---------|0.0|\n",
      "|53|---------|2.3571579456329346|---------|0.0|\n",
      "|54|---------|3.6051008701324463|---------|0.0|\n",
      "|55|---------|2.2790775299072266|---------|0.0|\n",
      "|56|---------|2.7731943130493164|---------|0.0|\n",
      "|57|---------|1.9954169988632202|---------|0.0|\n",
      "|58|---------|7.286881446838379|---------|0.0|\n",
      "|59|---------|1.8602964878082275|---------|0.0|\n",
      "|60|---------|1.6042113304138184|---------|0.0|\n",
      "|61|---------|1.9696481227874756|---------|0.0|\n",
      "|62|---------|1.9473140239715576|---------|0.0|\n",
      "|63|---------|2.183777332305908|---------|0.0|\n",
      "|64|---------|2.9767518043518066|---------|0.0|\n",
      "|65|---------|1.8962808847427368|---------|0.0|\n",
      "|66|---------|1.3656929731369019|---------|0.0|\n",
      "|67|---------|1.5593010187149048|---------|0.0|\n",
      "|68|---------|1.7415013313293457|---------|0.0|\n",
      "|69|---------|2.086726188659668|---------|0.0|\n",
      "|70|---------|1.8476459980010986|---------|0.0|\n",
      "|71|---------|6.0752058029174805|---------|0.0|\n",
      "|72|---------|1.5357214212417603|---------|0.0|\n",
      "|73|---------|1.8565765619277954|---------|0.0|\n",
      "|74|---------|1.6617975234985352|---------|0.0|\n",
      "|75|---------|2.024179697036743|---------|0.0|\n",
      "|76|---------|5.896033763885498|---------|0.0|\n",
      "|77|---------|0.9315475225448608|---------|0.0|\n",
      "|78|---------|1.117203712463379|---------|0.0|\n",
      "|79|---------|1.762962818145752|---------|0.0|\n",
      "|80|---------|4.683103084564209|---------|0.0|\n",
      "|81|---------|1.2194457054138184|---------|0.0|\n",
      "|82|---------|1.5243664979934692|---------|0.0|\n",
      "|83|---------|1.572348952293396|---------|0.0|\n",
      "|84|---------|1.4334849119186401|---------|0.0|\n",
      "|85|---------|1.2436772584915161|---------|0.0|\n",
      "|86|---------|2.0968399047851562|---------|0.0|\n",
      "|87|---------|1.3524221181869507|---------|0.0|\n",
      "|88|---------|1.2128771543502808|---------|0.0|\n",
      "|89|---------|5.892399787902832|---------|0.0|\n",
      "|90|---------|2.4783923625946045|---------|0.0|\n",
      "|91|---------|1.784921646118164|---------|0.0|\n",
      "|92|---------|1.4356019496917725|---------|0.0|\n",
      "|93|---------|1.3959295749664307|---------|0.0|\n",
      "|94|---------|1.5919370651245117|---------|0.0|\n",
      "|95|---------|1.6017520427703857|---------|0.0|\n",
      "|96|---------|1.9549579620361328|---------|0.0|\n",
      "|97|---------|3.9233667850494385|---------|0.0|\n",
      "|98|---------|3.806370973587036|---------|0.0|\n",
      "|99|---------|1.8065687417984009|---------|0.0|\n",
      "-------------------------------------------------------\n"
     ]
    }
   ],
   "source": [
    "#------------------------------------------------------------------训练\n",
    "input_size = 1             # 输入特征数量\n",
    "hidden_size = 100           # 隐藏层神经单元数量\n",
    "output_size = 1            # 输出层神经单元数量\n",
    "batch_size = 8             # 批处理大小\n",
    "num_layer = 1              # RNN层数 \n",
    "out_list = []\n",
    "losses  = []\n",
    "#--------------------------------------------------------------------\n",
    "optimizer = torch.optim.Adam(rnn.parameters(),lr=0.001)        #  优化器\n",
    "loss_fn = nn.MSELoss()                                         #  损失函数\n",
    "#---------------------------------------------------------------------\n",
    "def train():\n",
    "    \n",
    "    print('|Epoch|'+\"-------------\"+'|loss|'+\"-------------\"+'acc')\n",
    "    print(\"-------------------------------------------------------\")\n",
    "    for epoch in range(100):\n",
    "        for i,(x, y) in enumerate(loader):\n",
    "            out= rnn(x)\n",
    "            loss = loss_fn(out,y)\n",
    "            loss.backward()\n",
    "            optimizer.step()\n",
    "            optimizer.zero_grad()\n",
    "            if epoch == 99:\n",
    "                out_list.append(out)\n",
    "        acc = (out == y).sum().item()/len(dataset)\n",
    "        losses.append(loss.item())\n",
    "        \n",
    "        print('|'+str(epoch)+'|'+\"---------\"'|'+str(loss.item())+'|'+\"---------\"'|'+str(acc)+'|')\n",
    "    print(\"-------------------------------------------------------\\n\")\n",
    "    # print(outs)\n",
    "\n",
    "#---------------------------------------------------------------------    \n",
    "train()"
   ],
   "metadata": {
    "collapsed": false,
    "ExecuteTime": {
     "end_time": "2024-11-14T12:57:54.804226Z",
     "start_time": "2024-11-14T12:57:31.010262Z"
    }
   },
   "id": "52e45ae1f3b74d08",
   "execution_count": 46
  },
  {
   "cell_type": "code",
   "outputs": [
    {
     "name": "stdout",
     "output_type": "stream",
     "text": [
      "[368.4691162109375, 200.127685546875, 94.8821792602539, 39.487754821777344, 12.9785737991333, 3.2543933391571045, 2.5479788780212402, 5.710490703582764, 9.710893630981445, 13.534531593322754, 8.841350555419922, 7.982178688049316, 5.775628089904785, 3.195385456085205, 5.063302040100098, 4.907422065734863, 6.783296585083008, 3.5092620849609375, 1.86388099193573, 1.5051463842391968, 1.456701397895813, 1.0072078704833984, 0.9202977418899536, 0.8914105892181396, 0.9600576758384705, 1.1078664064407349, 1.5436615943908691, 1.934208869934082, 2.260793447494507, 2.4826672077178955, 2.7655792236328125, 2.9657371044158936, 3.2148172855377197, 3.0607030391693115, 2.6210858821868896, 2.1956496238708496, 2.0286426544189453, 1.1163238286972046, 3.5592057704925537, 1.434819221496582, 2.317277431488037, 1.0352604389190674, 4.069348335266113, 1.3789056539535522, 3.106180429458618, 2.6529626846313477, 3.244811773300171, 2.01103138923645, 2.455314874649048, 2.7726006507873535, 3.386608839035034, 4.187434673309326, 2.5605788230895996, 2.3571579456329346, 3.6051008701324463, 2.2790775299072266, 2.7731943130493164, 1.9954169988632202, 7.286881446838379, 1.8602964878082275, 1.6042113304138184, 1.9696481227874756, 1.9473140239715576, 2.183777332305908, 2.9767518043518066, 1.8962808847427368, 1.3656929731369019, 1.5593010187149048, 1.7415013313293457, 2.086726188659668, 1.8476459980010986, 6.0752058029174805, 1.5357214212417603, 1.8565765619277954, 1.6617975234985352, 2.024179697036743, 5.896033763885498, 0.9315475225448608, 1.117203712463379, 1.762962818145752, 4.683103084564209, 1.2194457054138184, 1.5243664979934692, 1.572348952293396, 1.4334849119186401, 1.2436772584915161, 2.0968399047851562, 1.3524221181869507, 1.2128771543502808, 5.892399787902832, 2.4783923625946045, 1.784921646118164, 1.4356019496917725, 1.3959295749664307, 1.5919370651245117, 1.6017520427703857, 1.9549579620361328, 3.9233667850494385, 3.806370973587036, 1.8065687417984009]\n"
     ]
    }
   ],
   "source": [
    "print(losses)"
   ],
   "metadata": {
    "collapsed": false,
    "ExecuteTime": {
     "end_time": "2024-11-14T12:57:54.820102Z",
     "start_time": "2024-11-14T12:57:54.805225Z"
    }
   },
   "id": "69a3a52a893b1255",
   "execution_count": 47
  },
  {
   "cell_type": "code",
   "outputs": [
    {
     "data": {
      "text/plain": "<Figure size 400x200 with 1 Axes>",
      "image/png": "[encoded data removed]"
     },
     "metadata": {},
     "output_type": "display_data"
    }
   ],
   "source": [
    "# -------------------------------------- 画图（损失函数）\n",
    "fig = plt.figure(figsize=(4, 2))\n",
    "plt.plot(losses)\n",
    "plt.title('loss')\n",
    "plt.xlabel('epoch')\n",
    "plt.ylabel('loss')\n",
    "plt.show()"
   ],
   "metadata": {
    "collapsed": false,
    "ExecuteTime": {
     "end_time": "2024-11-14T12:57:54.991727Z",
     "start_time": "2024-11-14T12:57:54.823265Z"
    }
   },
   "id": "17d6d1266f0b3b26",
   "execution_count": 48
  },
  {
   "cell_type": "markdown",
   "source": [
    "## 预测"
   ],
   "metadata": {
    "collapsed": false
   },
   "id": "f597bbf96aa79a7b"
  },
  {
   "cell_type": "code",
   "outputs": [
    {
     "ename": "AttributeError",
     "evalue": "'numpy.ndarray' object has no attribute 'detach'",
     "output_type": "error",
     "traceback": [
      "\u001B[1;31m---------------------------------------------------------------------------\u001B[0m",
      "\u001B[1;31mAttributeError\u001B[0m                            Traceback (most recent call last)",
      "Cell \u001B[1;32mIn[52], line 1\u001B[0m\n\u001B[1;32m----> 1\u001B[0m out_list \u001B[38;5;241m=\u001B[39m [t\u001B[38;5;241m.\u001B[39mdetach()\u001B[38;5;241m.\u001B[39mnumpy() \u001B[38;5;28;01mfor\u001B[39;00m t \u001B[38;5;129;01min\u001B[39;00m out_list]\n\u001B[0;32m      2\u001B[0m result \u001B[38;5;241m=\u001B[39m np\u001B[38;5;241m.\u001B[39mstack(out_list)\n",
      "Cell \u001B[1;32mIn[52], line 1\u001B[0m, in \u001B[0;36m<listcomp>\u001B[1;34m(.0)\u001B[0m\n\u001B[1;32m----> 1\u001B[0m out_list \u001B[38;5;241m=\u001B[39m [\u001B[43mt\u001B[49m\u001B[38;5;241;43m.\u001B[39;49m\u001B[43mdetach\u001B[49m()\u001B[38;5;241m.\u001B[39mnumpy() \u001B[38;5;28;01mfor\u001B[39;00m t \u001B[38;5;129;01min\u001B[39;00m out_list]\n\u001B[0;32m      2\u001B[0m result \u001B[38;5;241m=\u001B[39m np\u001B[38;5;241m.\u001B[39mstack(out_list)\n",
      "\u001B[1;31mAttributeError\u001B[0m: 'numpy.ndarray' object has no attribute 'detach'"
     ]
    }
   ],
   "source": [
    "out_list = [t.detach().numpy() for t in out_list]\n",
    "result = np.stack(out_list)"
   ],
   "metadata": {
    "collapsed": false,
    "ExecuteTime": {
     "end_time": "2024-11-14T12:59:59.065706Z",
     "start_time": "2024-11-14T12:59:59.029287Z"
    }
   },
   "id": "2c3e7b109e82deec",
   "execution_count": 52
  },
  {
   "cell_type": "code",
   "outputs": [
    {
     "name": "stdout",
     "output_type": "stream",
     "text": [
      "<class 'numpy.ndarray'>\n"
     ]
    }
   ],
   "source": [
    "print(type(result))"
   ],
   "metadata": {
    "collapsed": false,
    "ExecuteTime": {
     "end_time": "2024-11-14T13:00:40.565831Z",
     "start_time": "2024-11-14T13:00:40.547767Z"
    }
   },
   "id": "a83ad02d70a2bef2",
   "execution_count": 55
  },
  {
   "cell_type": "code",
   "outputs": [
    {
     "name": "stdout",
     "output_type": "stream",
     "text": [
      "[ 2.3520598   3.877205    3.133595    2.973679    3.7573779   2.5791123\n",
      "  1.8863299   2.412705   -0.9065035   0.6134757   1.5085526   1.5858481\n",
      "  2.5658813   1.755765    2.1685054   1.9316692  -2.0935593   0.734177\n",
      "  1.3841244   2.3235369   2.120093    1.7809191   2.0095725   3.5601304\n",
      " -0.46352363  1.5092018   0.5990863   1.1127353   0.78256845  1.3271701\n",
      "  2.7343407   2.793005    1.482518    2.4931383   2.8770175   2.901283\n",
      "  2.043579    2.4601953   2.9614346   3.259064    2.434703    3.3947957\n",
      "  3.3575785   4.1300106   3.3874314   3.0434232   2.9385345   3.5221949\n",
      "  1.2828583   2.2235026   3.0740633   2.7584546   2.8270094   3.006041\n",
      "  2.8588552   2.2997575   0.7278376   2.0669818   2.2368217   2.687471\n",
      "  2.8135583   2.7247427   2.6111894   2.8566544   2.5086412   3.1344743\n",
      "  2.9946964   2.6329982   2.797462    2.810923    2.9055295   2.6581883\n",
      "  2.014667    2.6080306   2.3568506   1.4920865   1.2324717   1.8099102\n",
      "  2.0889685   2.548872    1.6939628   2.113604    1.8193531   1.95662\n",
      "  1.9703944   2.153237    2.3487601   2.0249238   1.5090517   1.9684265\n",
      "  1.7848531   1.9490579   3.041884    2.488967    2.2965093   2.5798292\n",
      "  2.3462214   2.6454258   2.260423    1.5608244   1.8825233   2.2444856\n",
      "  2.3385117   2.191772    2.3744497   2.5580015   2.2098885   1.8186975\n",
      "  1.2460358   1.8790998   2.3257163   2.5882752   2.261546    2.6110075\n",
      "  2.5453773   2.2705252   2.1659315   2.3374739   2.338145    2.320335\n",
      "  3.3904042   3.5126982   3.019525    2.7574515   2.9375362   2.6916347\n",
      "  2.8145447   3.1521673   3.2488642   3.3743992   3.1723423   3.128364\n",
      "  2.6788511   2.6780896   2.902944    2.9159384   3.0916252   3.2513576\n",
      "  2.9568634   2.7079854   3.0276256   3.149983    3.6037455   4.4041057\n",
      "  6.27328     5.458324    4.931619    4.6640024   5.088605    4.9756236\n",
      "  5.5607433   4.886347    5.7211266   5.562954    5.3931875   4.594813\n",
      "  4.660778    5.0595937   5.971202    5.9847474   7.1997466   6.956916\n",
      "  6.9385023   6.1306863   5.694033    5.233854    5.108472    6.2910933\n",
      "  6.8773713   6.480239    6.6495132   5.8007298   5.071188    5.112458\n",
      "  5.3851447   5.5423822   6.072292    6.2985253   6.071397    5.357402\n",
      "  5.1307187   5.2019634   5.3288817   5.670971    6.0246696   5.9044676\n",
      "  5.9609547   5.8523855   6.0814476   5.6053615   5.3700266   6.0211205\n",
      "  6.5979905   6.7281027   6.3908525   6.3204236   6.509999    6.331348\n",
      "  6.4485717   6.1684136   6.968863    6.677521    6.7395706   6.3926053\n",
      "  6.603507    6.415667    6.5299067   7.8678885   8.25307     7.6334047\n",
      "  8.226535    8.439011    8.332583    8.214173    7.629311    7.7928157\n",
      "  8.394372    7.819368    7.9374566   7.928073    8.203517    8.624925\n",
      "  8.702698    8.214692    9.16859     7.235794    6.8554544   6.5680985\n",
      "  6.134586    5.992039    6.5228186   6.5677233   7.0861807   6.5964327\n",
      "  6.8575172   6.5908165   7.1650386   7.3778334   7.310847    7.270246\n",
      "  7.4025917   6.6642303   6.6764197   6.577703    6.8745875   7.1042395\n",
      "  8.058578    7.761285    8.19023     7.1718144   7.5494156   7.4509425\n",
      "  7.681581    7.912178    8.087743    6.8128676   7.86196     7.0426145\n",
      "  7.2081714   7.290971    7.7331457   7.729984    7.420608    7.6633515\n",
      "  8.201415    7.1706576   7.8699603   7.929625    8.178021    7.71796\n",
      "  7.7194285   7.5709653   8.087113    7.0355577   6.8582444   6.8282185\n",
      "  7.22557     7.2315516   7.099008    6.999579    7.3791723   6.771698\n",
      "  6.9040985   7.021606    7.4519153   6.83879     6.962743    7.7045064\n",
      "  7.768545    7.2933073   7.475457    7.7718096   7.9586954   7.9419374\n",
      "  7.910059    8.261357    8.875289    7.78423     7.4931664   7.232796\n",
      "  7.2420034   7.03858     7.0857806   7.1143284   7.72821     6.6284103\n",
      "  6.491787    6.8683786   7.531309    7.4319496   7.770742    9.070756\n",
      "  9.536239    8.818934    9.006243    8.972842    8.694392    8.213173\n",
      "  8.969098    9.482664   11.520438   10.988374   12.7613125  12.656777\n",
      " 12.350399   11.566322   11.0438385  12.560444   14.510792   15.323985\n",
      " 16.20521    17.697113   17.521568   16.785595   16.737183   16.266397\n",
      " 16.363092   18.611753   18.938772   20.416693   20.967157   21.570623\n",
      " 19.396364   17.412706   17.912777   19.485985   20.854342   21.058992\n",
      " 21.888334   21.734735   20.311264   21.559599   21.880924   21.24097\n",
      " 20.953457   22.38321    20.45789    18.647087   21.84655    24.099142\n",
      " 22.99725    23.500322   23.239174   23.928244   24.626884   26.32037\n",
      " 27.325329   26.977842   26.523146   27.46587    24.789425   26.714666\n",
      " 26.701849   24.244223   24.379276   24.241598   24.355408   27.294197\n",
      " 26.117844   24.93177    23.818956   24.380978   25.396774   24.70352\n",
      " 22.747948   21.731773   21.151543   22.416016   22.957247   23.849098\n",
      " 25.144365   25.481564   27.154251   27.967936   27.554527   29.16671\n",
      " 29.880138   29.796587   27.58075    27.204388   27.902111   28.274612\n",
      " 29.763903   29.496632   26.939745   26.178873   24.87373    27.768995\n",
      " 26.930721   26.040668   24.8589     23.947159   23.770163   23.76379\n",
      " 24.521065   26.521442   25.607574   25.423986   24.418093   24.00334\n",
      " 25.274187   26.817047   26.132574   27.359423   28.173712   29.284958\n",
      " 29.705864   30.031845   32.899612   33.183968   31.12496    31.037146\n",
      " 30.86753    34.1536     35.36425    36.381653   37.579178   36.51111\n",
      " 35.403687   35.528004   34.431824   38.797905   38.10311    36.3758\n",
      " 38.67221    42.82626    41.88711    41.43194    38.002254   45.738377\n",
      " 46.620514   46.714836   48.12768    47.113132   44.410164   44.90893\n",
      " 40.954803   45.53774    44.202103   40.487038   38.406815   41.163143\n",
      " 43.48193    39.932404   38.152504   44.881073   45.508446   42.466915\n",
      " 43.19242    41.557327   41.360332   42.14128    41.67826    46.433037\n",
      " 46.84458    45.400284   45.223534   44.78009    40.397034   42.111435\n",
      " 39.994217   45.723976   42.887375   43.46289    41.906265   41.450985\n",
      " 44.08622    43.488297   42.138653   46.869556   48.749634   48.376743\n",
      " 48.23004    48.427334   48.33569    48.926044   45.462147   47.90286\n",
      " 47.46695    48.0656     44.754986   45.534138   46.902065   47.656628\n",
      " 44.82992    47.842236   46.448536   43.924152   40.98502    36.55395\n",
      " 38.48012    41.41257    41.5735     43.9963     44.68927    44.23313\n",
      " 42.11742    40.2108     42.5921     40.586113   41.413486   43.678795\n",
      " 42.681934   44.28287    43.858936   44.335754   41.69212    41.87996\n",
      " 43.419937   44.19406    47.372795   46.87966    46.99928    45.71753\n",
      " 42.577835   40.889057   42.393604   38.908195   39.881424   39.205837\n",
      " 38.31045    39.06751    38.38456    40.824562   42.671066   41.10241\n",
      " 40.06124    39.700447   37.315636   37.376953   37.584824   39.181366\n",
      " 40.00365    39.021786   39.837578   39.00646    35.931778   34.747616\n",
      " 34.798122   35.18607    37.227016   35.61337    37.3259     36.92236\n",
      " 37.170216   37.03594    38.020283   37.60364    38.992294   35.629982\n",
      " 36.638824   37.212944   36.428944   35.028347   33.832085   34.311424\n",
      " 38.614502   35.6951     34.354515   34.985382   34.851734   37.56304\n",
      " 37.909225   37.269093   39.953323   35.99601    36.7106     37.55628\n",
      " 37.79756    38.547752   37.881657   34.745472   38.626286   34.764393\n",
      " 34.92561    33.141453   31.778149   29.002142   29.200153   31.681555\n",
      " 32.240643   29.423872   30.81225    28.345976   30.436281   31.208168\n",
      " 32.290016   30.948835   34.970253   32.02239    31.798956   30.225113\n",
      " 30.271336   30.78747    35.071762   35.00658    37.565033   34.80399\n",
      " 33.760963   32.708675   34.460384   33.423584   32.29823    30.039373\n",
      " 33.777454   30.393692   32.784077   30.734882   33.91354    31.584875\n",
      " 32.836105   31.03851    32.724503   28.92935    30.049059   30.562386\n",
      " 32.67494    34.162857   35.944683   35.729996   38.01845    34.6719\n",
      " 34.63593    35.198208   35.599236   34.90366    37.91826    34.064568\n",
      " 36.502472   35.577206   34.614315   34.304188   33.162346   36.023262\n",
      " 36.00841    36.58079    38.45228    37.527134   36.474655   39.976406\n",
      " 40.501774   40.237564   38.49179    40.752323   38.744038   37.43065\n",
      " 36.499092   34.434105   37.642002   35.893494   38.296646   37.035233\n",
      " 36.812035   39.00193    39.856216   37.39138    39.571507   39.589508\n",
      " 37.60897    34.27235    37.03815    37.115692   36.86691    40.992733\n",
      " 40.30823    39.461136   38.590412   39.13621    38.401775   38.21928\n",
      " 37.55227    37.563766   39.643105   39.035007   39.269043   37.08911\n",
      " 37.93148    37.097767   36.04272    37.916187   37.854507   38.565388\n",
      " 36.75204    37.752056   38.632183   39.215816   37.438198   37.325848\n",
      " 37.668648   36.64169    36.736965   37.368023   37.256153   36.623753\n",
      " 35.634125   36.460743   34.94437    33.91811    33.044033   33.17209   ]\n"
     ]
    }
   ],
   "source": [
    "y_p = np.ravel(result)\n",
    "print(y_p)"
   ],
   "metadata": {
    "collapsed": false,
    "ExecuteTime": {
     "end_time": "2024-11-14T13:01:21.449010Z",
     "start_time": "2024-11-14T13:01:21.428716Z"
    }
   },
   "id": "650ae30b564f895d",
   "execution_count": 57
  },
  {
   "cell_type": "code",
   "outputs": [
    {
     "data": {
      "text/plain": "<Figure size 640x480 with 1 Axes>",
      "image/png": "[encoded data removed]"
     },
     "metadata": {},
     "output_type": "display_data"
    }
   ],
   "source": [
    "fig1 = plt.figure()\n",
    "plt.plot(y_p, color='red',label='prediction')\n",
    "plt.plot(X[:,-1],'y',label='value')\n",
    "plt.title('loss')\n",
    "plt.xlabel('epoch')\n",
    "plt.ylabel('value')\n",
    "plt.legend(loc='upper left')\n",
    "plt.show()"
   ],
   "metadata": {
    "collapsed": false,
    "ExecuteTime": {
     "end_time": "2024-11-14T13:06:14.308831Z",
     "start_time": "2024-11-14T13:06:14.125914Z"
    }
   },
   "id": "87fab2ac251b5ecc",
   "execution_count": 66
  },
  {
   "cell_type": "code",
   "outputs": [],
   "source": [],
   "metadata": {
    "collapsed": false
   },
   "id": "de09a227ce0be884"
  }
 ],
 "metadata": {
  "kernelspec": {
   "display_name": "Python 3",
   "language": "python",
   "name": "python3"
  },
  "language_info": {
   "codemirror_mode": {
    "name": "ipython",
    "version": 2
   },
   "file_extension": ".py",
   "mimetype": "text/x-python",
   "name": "python",
   "nbconvert_exporter": "python",
   "pygments_lexer": "ipython2",
   "version": "2.7.6"
  }
 },
 "nbformat": 4,
 "nbformat_minor": 5
}
