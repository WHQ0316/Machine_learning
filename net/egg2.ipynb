{
 "cells": [
  {
   "cell_type": "markdown",
   "source": [
    "egg2 （案例二）"
   ],
   "metadata": {
    "collapsed": false
   },
   "id": "1c90bedb91a93c57"
  },
  {
   "cell_type": "code",
   "outputs": [],
   "source": [
    "# --------导入库文件-------------\n",
    "import torch\n",
    "import torch.nn as nn\n",
    "from torch.utils.data import Dataset , DataLoader"
   ],
   "metadata": {
    "collapsed": false,
    "ExecuteTime": {
     "end_time": "2024-11-12T10:18:39.605205Z",
     "start_time": "2024-11-12T10:18:37.474585Z"
    }
   },
   "id": "b8aab8d2a3912cb1",
   "execution_count": 1
  },
  {
   "cell_type": "code",
   "outputs": [],
   "source": [
    "# --------定义数据集--------------\n",
    "def get_rectangle():\n",
    "    import random\n",
    "    width = random.random()\n",
    "    height = random.random()\n",
    "    s = width * height\n",
    "    return width, height, s\n",
    "data = get_rectangle()"
   ],
   "metadata": {
    "collapsed": false,
    "ExecuteTime": {
     "end_time": "2024-11-12T10:18:39.620866Z",
     "start_time": "2024-11-12T10:18:39.606284Z"
    }
   },
   "id": "b80469479fba901d",
   "execution_count": 2
  },
  {
   "cell_type": "code",
   "outputs": [
    {
     "name": "stdout",
     "output_type": "stream",
     "text": [
      "500\n",
      "torch.Size([2])\n"
     ]
    }
   ],
   "source": [
    "# -----------定义数据集------------\n",
    "class Dataset(torch.utils.data.Dataset):\n",
    "    def __init__(self):\n",
    "        pass\n",
    "    def __len__(self):\n",
    "        return 500\n",
    "    def __getitem__(self,i):\n",
    "        width, height, s = data\n",
    "        x = torch.FloatTensor([width, height])\n",
    "        y = torch.FloatTensor([s])\n",
    "        return x, y\n",
    "data2 = Dataset()\n",
    "print(len(data2))\n",
    "print(data2[0][0].shape)"
   ],
   "metadata": {
    "collapsed": false,
    "ExecuteTime": {
     "end_time": "2024-11-12T10:20:03.184114Z",
     "start_time": "2024-11-12T10:20:03.167353Z"
    }
   },
   "id": "687056d1e38d8d69",
   "execution_count": 4
  },
  {
   "cell_type": "code",
   "outputs": [],
   "source": [
    "#-------------数据加载----------------\n",
    "loader = torch.utils.data.DataLoader(dataset=data2,\n",
    "                                     batch_size=8,\n",
    "                                     shuffle=True,\n",
    "                                     drop_last=True)"
   ],
   "metadata": {
    "collapsed": false,
    "ExecuteTime": {
     "end_time": "2024-11-11T12:51:00.505373Z",
     "start_time": "2024-11-11T12:51:00.486395Z"
    }
   },
   "id": "6f2aa6b916f0f04a",
   "execution_count": 8
  },
  {
   "cell_type": "code",
   "outputs": [],
   "source": [
    "# --------------定义网络--------------------\n",
    "class model2(nn.Module):\n",
    "    def __init__(self):\n",
    "        super(model2, self).__init__()\n",
    "        # 定义网络结构\n",
    "        self.fc = nn.Sequential(\n",
    "            nn.Linear(2, 32),\n",
    "            nn.ReLU(),\n",
    "            nn.Linear(32, 32),\n",
    "            nn.ReLU(),\n",
    "            nn.Linear(32, 1),\n",
    "        )\n",
    "    def forward(self, x):\n",
    "        return self.fc(x)\n",
    "model2 = model2()"
   ],
   "metadata": {
    "collapsed": false,
    "ExecuteTime": {
     "end_time": "2024-11-11T12:51:03.244303Z",
     "start_time": "2024-11-11T12:51:03.236922Z"
    }
   },
   "id": "6e1c472b953f6b48",
   "execution_count": 9
  },
  {
   "cell_type": "code",
   "outputs": [
    {
     "name": "stdout",
     "output_type": "stream",
     "text": [
      "0 \t 0.023861266672611237 \t 0.0\n",
      "10 \t 1.0746958878371515e-13 \t 0.0\n",
      "20 \t 5.051514762044462e-15 \t 0.0\n",
      "30 \t 7.216449660063518e-16 \t 0.0\n",
      "40 \t 1.6653345369377348e-16 \t 0.0\n",
      "50 \t 0.0 \t 0.0\n",
      "60 \t 0.0 \t 0.0\n",
      "70 \t 0.0 \t 0.0\n",
      "80 \t 0.0 \t 0.0\n",
      "90 \t 0.0 \t 0.0\n"
     ]
    }
   ],
   "source": [
    "# ------------训练------------------------\n",
    "def train2():\n",
    "    # 优化器\n",
    "    optimizer = torch.optim.Adam(model2.parameters(), lr=1e-4)\n",
    "    # 损失函数\n",
    "    loss_function = nn.MSELoss()\n",
    "    # 进入train模式\n",
    "    model2.train()\n",
    "\n",
    "    # 遍历100轮\n",
    "    for epoch in range(100):\n",
    "        for i, (x, y) in enumerate(loader):\n",
    "            out = model2(x)  # 模型计算\n",
    "            loss = loss_function(out, y)\n",
    "            loss.backward()  # 计算梯度\n",
    "            optimizer.step()  # 调整参数\n",
    "            optimizer.zero_grad()  # 梯度归零\n",
    "\n",
    "        if epoch % 10 == 0:\n",
    "            # 计算正确率\n",
    "            acc = out.argmax(dim=1).eq(y).sum().item() / len(y)\n",
    "            print(epoch, '\\t', loss.item(), '\\t', acc)\n",
    "\n",
    "train2()"
   ],
   "metadata": {
    "collapsed": false,
    "ExecuteTime": {
     "end_time": "2024-11-11T12:52:06.400034Z",
     "start_time": "2024-11-11T12:51:57.975839Z"
    }
   },
   "id": "548590629e20f26a",
   "execution_count": 10
  },
  {
   "cell_type": "code",
   "outputs": [],
   "source": [],
   "metadata": {
    "collapsed": false
   },
   "id": "ed64a7082bd50b7b"
  }
 ],
 "metadata": {
  "kernelspec": {
   "display_name": "Python 3",
   "language": "python",
   "name": "python3"
  },
  "language_info": {
   "codemirror_mode": {
    "name": "ipython",
    "version": 2
   },
   "file_extension": ".py",
   "mimetype": "text/x-python",
   "name": "python",
   "nbconvert_exporter": "python",
   "pygments_lexer": "ipython2",
   "version": "2.7.6"
  }
 },
 "nbformat": 4,
 "nbformat_minor": 5
}
