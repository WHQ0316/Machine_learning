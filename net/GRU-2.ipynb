{
 "cells": [
  {
   "cell_type": "markdown",
   "source": [
    "# GRU --(案例二) 股票预测"
   ],
   "metadata": {
    "collapsed": false
   },
   "id": "2b576a9c33a53998"
  },
  {
   "cell_type": "code",
   "outputs": [],
   "source": [
    "# ------------------------------------------导入库文件\n",
    "import numpy as np\n",
    "from matplotlib import pyplot as plt\n",
    "import pandas as pd\n",
    "import torch\n",
    "import torch.nn as nn"
   ],
   "metadata": {
    "collapsed": false,
    "ExecuteTime": {
     "end_time": "2024-11-14T12:25:20.020729Z",
     "start_time": "2024-11-14T12:25:20.008260Z"
    }
   },
   "id": "1f1910817f8a6704",
   "execution_count": 42
  },
  {
   "cell_type": "code",
   "outputs": [
    {
     "name": "stdout",
     "output_type": "stream",
     "text": [
      "0    0.099027\n",
      "1    0.107782\n",
      "2    0.108366\n",
      "3    0.093580\n",
      "4    0.096887\n",
      "Name: close, dtype: float64\n"
     ]
    }
   ],
   "source": [
    "# ------------------------------------------读取文件（选择特征）\n",
    "data_raw = pd.read_csv('zgpa_train.csv')\n",
    "data = data_raw['close']\n",
    "data = (data-min(data))/(max(data)-min(data))\n",
    "print(data.head())"
   ],
   "metadata": {
    "collapsed": false,
    "ExecuteTime": {
     "end_time": "2024-11-14T12:25:20.082924Z",
     "start_time": "2024-11-14T12:25:20.061076Z"
    }
   },
   "id": "2aa64791f763d453",
   "execution_count": 43
  },
  {
   "cell_type": "code",
   "outputs": [
    {
     "name": "stdout",
     "output_type": "stream",
     "text": [
      "(723, 9)\n"
     ]
    }
   ],
   "source": [
    "# ------------------------------------特征处理（划分出每一个输出和输出）\n",
    "dataset = []\n",
    "for i in range(len(data)-8):\n",
    "    dataset.append([a for a in data[i:i+9]])\n",
    "dataset = np.array(dataset)\n",
    "print(dataset.shape)"
   ],
   "metadata": {
    "collapsed": false,
    "ExecuteTime": {
     "end_time": "2024-11-14T12:25:20.129462Z",
     "start_time": "2024-11-14T12:25:20.085008Z"
    }
   },
   "id": "f3eeff3b54d99f5f",
   "execution_count": 44
  },
  {
   "cell_type": "code",
   "outputs": [
    {
     "name": "stdout",
     "output_type": "stream",
     "text": [
      "(578, 8)\n",
      "(578,)\n"
     ]
    }
   ],
   "source": [
    "# ------------------------------------------数据集和验证集的划分\n",
    "train_size = int(0.8*len(dataset))\n",
    "test_size = len(dataset) - train_size\n",
    "# ------------------------------------------\n",
    "train_data = dataset[:train_size]\n",
    "test_data = dataset[train_size:]\n",
    "# ------------------------------------------输入和输出的划分（前八个输入，第九个输出）\n",
    "x = train_data[:,:-1]\n",
    "y = train_data[:,-1]\n",
    "# ------------------------------------------\n",
    "print(x.shape)\n",
    "print(y.shape)"
   ],
   "metadata": {
    "collapsed": false,
    "ExecuteTime": {
     "end_time": "2024-11-14T12:25:20.145220Z",
     "start_time": "2024-11-14T12:25:20.130549Z"
    }
   },
   "id": "17f83b8fef48251d",
   "execution_count": 45
  },
  {
   "cell_type": "code",
   "outputs": [],
   "source": [
    "# -------------------------------将数据转换为torch张量\n",
    "x = torch.from_numpy(x).float().unsqueeze(-1)\n",
    "y = torch.from_numpy(y).float().unsqueeze(-1)"
   ],
   "metadata": {
    "collapsed": false,
    "ExecuteTime": {
     "end_time": "2024-11-14T12:25:20.160892Z",
     "start_time": "2024-11-14T12:25:20.148356Z"
    }
   },
   "id": "4237883adf038a18",
   "execution_count": 46
  },
  {
   "cell_type": "code",
   "outputs": [
    {
     "name": "stdout",
     "output_type": "stream",
     "text": [
      "torch.Size([578, 8, 1])\n",
      "torch.Size([578, 1])\n"
     ]
    }
   ],
   "source": [
    "print(x.shape)\n",
    "print(y.shape)"
   ],
   "metadata": {
    "collapsed": false,
    "ExecuteTime": {
     "end_time": "2024-11-14T12:25:20.176425Z",
     "start_time": "2024-11-14T12:25:20.161944Z"
    }
   },
   "id": "b7956f04ecf2d3c0",
   "execution_count": 47
  },
  {
   "cell_type": "markdown",
   "source": [
    "## 建立模型"
   ],
   "metadata": {
    "collapsed": false
   },
   "id": "56f84cf90cc059f8"
  },
  {
   "cell_type": "markdown",
   "source": [
    "#### input_size = 1\n",
    "#### batch_size = 578  //  145  (723) 这里建议取相同值【16，32】\n",
    "#### output_size = 1\n",
    "#### squ_len = 8\n",
    "#### num_layers = 2\n",
    "#### hidden_size = 32\n",
    "#### epoch = 100"
   ],
   "metadata": {
    "collapsed": false
   },
   "id": "3e0e6ee5325ceac"
  },
  {
   "cell_type": "code",
   "outputs": [],
   "source": [
    "class gru(nn.Module):\n",
    "    def __init__(self):\n",
    "        super(gru, self).__init__()\n",
    "        self.gru = nn.GRU(input_size=1, hidden_size=32, num_layers=2, batch_first=True)\n",
    "        self.fc = nn.Linear(32,1)\n",
    "    def forward(self, x_):\n",
    "        h0 = torch.zeros(2,x_.shape[0],32)    # [num_layer,batch_size,hidden_size]\n",
    "        out,hn = self.gru(x_,h0)\n",
    "        out = self.fc(out[:,-1,:])\n",
    "        return out\n",
    "\n",
    "model = gru()"
   ],
   "metadata": {
    "collapsed": false,
    "ExecuteTime": {
     "end_time": "2024-11-14T12:25:20.191944Z",
     "start_time": "2024-11-14T12:25:20.177423Z"
    }
   },
   "id": "82be187e0a8e1557",
   "execution_count": 48
  },
  {
   "cell_type": "markdown",
   "source": [
    "## 训练"
   ],
   "metadata": {
    "collapsed": false
   },
   "id": "7c4caed5535aedae"
  },
  {
   "cell_type": "code",
   "outputs": [
    {
     "name": "stdout",
     "output_type": "stream",
     "text": [
      "Epoch:  0 Loss:  0.20633834600448608\n",
      "Epoch:  1 Loss:  0.18820542097091675\n",
      "Epoch:  2 Loss:  0.17151226103305817\n",
      "Epoch:  3 Loss:  0.15622705221176147\n",
      "Epoch:  4 Loss:  0.14231230318546295\n",
      "Epoch:  5 Loss:  0.12972061336040497\n",
      "Epoch:  6 Loss:  0.11841417104005814\n",
      "Epoch:  7 Loss:  0.10837206244468689\n",
      "Epoch:  8 Loss:  0.09958891570568085\n",
      "Epoch:  9 Loss:  0.09207063168287277\n",
      "Epoch:  10 Loss:  0.08582697808742523\n",
      "Epoch:  11 Loss:  0.08085841685533524\n",
      "Epoch:  12 Loss:  0.07713650166988373\n",
      "Epoch:  13 Loss:  0.07458354532718658\n",
      "Epoch:  14 Loss:  0.07305768132209778\n",
      "Epoch:  15 Loss:  0.0723453238606453\n",
      "Epoch:  16 Loss:  0.07216665148735046\n",
      "Epoch:  17 Loss:  0.07220426946878433\n",
      "Epoch:  18 Loss:  0.07215427607297897\n",
      "Epoch:  19 Loss:  0.07178029417991638\n",
      "Epoch:  20 Loss:  0.0709470734000206\n",
      "Epoch:  21 Loss:  0.06962428241968155\n",
      "Epoch:  22 Loss:  0.06786693632602692\n",
      "Epoch:  23 Loss:  0.06578440219163895\n",
      "Epoch:  24 Loss:  0.06350880861282349\n",
      "Epoch:  25 Loss:  0.06116880849003792\n",
      "Epoch:  26 Loss:  0.05887164920568466\n",
      "Epoch:  27 Loss:  0.05669331178069115\n",
      "Epoch:  28 Loss:  0.05467568337917328\n",
      "Epoch:  29 Loss:  0.05282868444919586\n",
      "Epoch:  30 Loss:  0.051135625690221786\n",
      "Epoch:  31 Loss:  0.04956012964248657\n",
      "Epoch:  32 Loss:  0.0480535626411438\n",
      "Epoch:  33 Loss:  0.046562228351831436\n",
      "Epoch:  34 Loss:  0.0450337678194046\n",
      "Epoch:  35 Loss:  0.043422549962997437\n",
      "Epoch:  36 Loss:  0.041693802922964096\n",
      "Epoch:  37 Loss:  0.03982650861144066\n",
      "Epoch:  38 Loss:  0.03781486675143242\n",
      "Epoch:  39 Loss:  0.0356685072183609\n",
      "Epoch:  40 Loss:  0.033411119133234024\n",
      "Epoch:  41 Loss:  0.03107760287821293\n",
      "Epoch:  42 Loss:  0.028709450736641884\n",
      "Epoch:  43 Loss:  0.02634855918586254\n",
      "Epoch:  44 Loss:  0.024029893800616264\n",
      "Epoch:  45 Loss:  0.021774478256702423\n",
      "Epoch:  46 Loss:  0.019584881141781807\n",
      "Epoch:  47 Loss:  0.01744605228304863\n",
      "Epoch:  48 Loss:  0.015333129093050957\n",
      "Epoch:  49 Loss:  0.013225291855633259\n",
      "Epoch:  50 Loss:  0.011121573857963085\n",
      "Epoch:  51 Loss:  0.009052544832229614\n",
      "Epoch:  52 Loss:  0.0070822034031152725\n",
      "Epoch:  53 Loss:  0.005297547206282616\n",
      "Epoch:  54 Loss:  0.0037874935660511255\n",
      "Epoch:  55 Loss:  0.002617497695609927\n",
      "Epoch:  56 Loss:  0.001809591893106699\n",
      "Epoch:  57 Loss:  0.0013386538485065103\n",
      "Epoch:  58 Loss:  0.0011503257555887103\n",
      "Epoch:  59 Loss:  0.001191565883345902\n",
      "Epoch:  60 Loss:  0.001429542899131775\n",
      "Epoch:  61 Loss:  0.0018375117797404528\n",
      "Epoch:  62 Loss:  0.0023552642669528723\n",
      "Epoch:  63 Loss:  0.0028665976133197546\n",
      "Epoch:  64 Loss:  0.0032344372011721134\n",
      "Epoch:  65 Loss:  0.0033733020536601543\n",
      "Epoch:  66 Loss:  0.0032883179374039173\n",
      "Epoch:  67 Loss:  0.003048207610845566\n",
      "Epoch:  68 Loss:  0.0027293215971440077\n",
      "Epoch:  69 Loss:  0.0023814246524125338\n",
      "Epoch:  70 Loss:  0.00202984013594687\n",
      "Epoch:  71 Loss:  0.0016941315261647105\n",
      "Epoch:  72 Loss:  0.0013990849256515503\n",
      "Epoch:  73 Loss:  0.0011705301003530622\n",
      "Epoch:  74 Loss:  0.0010239063994958997\n",
      "Epoch:  75 Loss:  0.0009568046662025154\n",
      "Epoch:  76 Loss:  0.0009510646923445165\n",
      "Epoch:  77 Loss:  0.0009822179563343525\n",
      "Epoch:  78 Loss:  0.0010295221582055092\n",
      "Epoch:  79 Loss:  0.0010808376828208566\n",
      "Epoch:  80 Loss:  0.0011312454007565975\n",
      "Epoch:  81 Loss:  0.001178461592644453\n",
      "Epoch:  82 Loss:  0.0012190722627565265\n",
      "Epoch:  83 Loss:  0.001247817068360746\n",
      "Epoch:  84 Loss:  0.0012595457956194878\n",
      "Epoch:  85 Loss:  0.0012518975418061018\n",
      "Epoch:  86 Loss:  0.0012266930425539613\n",
      "Epoch:  87 Loss:  0.0011891964823007584\n",
      "Epoch:  88 Loss:  0.0011458350345492363\n",
      "Epoch:  89 Loss:  0.0011018043151125312\n",
      "Epoch:  90 Loss:  0.0010599357774481177\n",
      "Epoch:  91 Loss:  0.0010212272172793746\n",
      "Epoch:  92 Loss:  0.0009863264858722687\n",
      "Epoch:  93 Loss:  0.000956669682636857\n",
      "Epoch:  94 Loss:  0.0009343820274807513\n",
      "Epoch:  95 Loss:  0.0009211126598529518\n",
      "Epoch:  96 Loss:  0.0009168112301267684\n",
      "Epoch:  97 Loss:  0.0009194680606015027\n",
      "Epoch:  98 Loss:  0.0009260160150006413\n",
      "Epoch:  99 Loss:  0.000933691393584013\n"
     ]
    }
   ],
   "source": [
    "criterion = nn.MSELoss()\n",
    "optimizer = torch.optim.Adam(model.parameters(),lr=0.001)\n",
    "model.train()\n",
    "loss_list = []\n",
    "for epoch in range(100):\n",
    "    y_pred = model(x)\n",
    "    loss = criterion(y_pred,y)\n",
    "    optimizer.zero_grad()\n",
    "    loss.backward()\n",
    "    optimizer.step()\n",
    "    print('Epoch: ', epoch, 'Loss: ', loss.item())\n",
    "    loss_list.append(loss.item())"
   ],
   "metadata": {
    "collapsed": false,
    "ExecuteTime": {
     "end_time": "2024-11-14T12:25:22.000730Z",
     "start_time": "2024-11-14T12:25:20.194030Z"
    }
   },
   "id": "a4049df06cc548f3",
   "execution_count": 49
  },
  {
   "cell_type": "code",
   "outputs": [
    {
     "name": "stdout",
     "output_type": "stream",
     "text": [
      "[0.20633834600448608, 0.18820542097091675, 0.17151226103305817, 0.15622705221176147, 0.14231230318546295, 0.12972061336040497, 0.11841417104005814, 0.10837206244468689, 0.09958891570568085, 0.09207063168287277, 0.08582697808742523, 0.08085841685533524, 0.07713650166988373, 0.07458354532718658, 0.07305768132209778, 0.0723453238606453, 0.07216665148735046, 0.07220426946878433, 0.07215427607297897, 0.07178029417991638, 0.0709470734000206, 0.06962428241968155, 0.06786693632602692, 0.06578440219163895, 0.06350880861282349, 0.06116880849003792, 0.05887164920568466, 0.05669331178069115, 0.05467568337917328, 0.05282868444919586, 0.051135625690221786, 0.04956012964248657, 0.0480535626411438, 0.046562228351831436, 0.0450337678194046, 0.043422549962997437, 0.041693802922964096, 0.03982650861144066, 0.03781486675143242, 0.0356685072183609, 0.033411119133234024, 0.03107760287821293, 0.028709450736641884, 0.02634855918586254, 0.024029893800616264, 0.021774478256702423, 0.019584881141781807, 0.01744605228304863, 0.015333129093050957, 0.013225291855633259, 0.011121573857963085, 0.009052544832229614, 0.0070822034031152725, 0.005297547206282616, 0.0037874935660511255, 0.002617497695609927, 0.001809591893106699, 0.0013386538485065103, 0.0011503257555887103, 0.001191565883345902, 0.001429542899131775, 0.0018375117797404528, 0.0023552642669528723, 0.0028665976133197546, 0.0032344372011721134, 0.0033733020536601543, 0.0032883179374039173, 0.003048207610845566, 0.0027293215971440077, 0.0023814246524125338, 0.00202984013594687, 0.0016941315261647105, 0.0013990849256515503, 0.0011705301003530622, 0.0010239063994958997, 0.0009568046662025154, 0.0009510646923445165, 0.0009822179563343525, 0.0010295221582055092, 0.0010808376828208566, 0.0011312454007565975, 0.001178461592644453, 0.0012190722627565265, 0.001247817068360746, 0.0012595457956194878, 0.0012518975418061018, 0.0012266930425539613, 0.0011891964823007584, 0.0011458350345492363, 0.0011018043151125312, 0.0010599357774481177, 0.0010212272172793746, 0.0009863264858722687, 0.000956669682636857, 0.0009343820274807513, 0.0009211126598529518, 0.0009168112301267684, 0.0009194680606015027, 0.0009260160150006413, 0.000933691393584013]\n"
     ]
    }
   ],
   "source": [
    "print(loss_list)"
   ],
   "metadata": {
    "collapsed": false,
    "ExecuteTime": {
     "end_time": "2024-11-14T12:25:22.016366Z",
     "start_time": "2024-11-14T12:25:22.002818Z"
    }
   },
   "id": "b6a90999ee5b9fdb",
   "execution_count": 50
  },
  {
   "cell_type": "markdown",
   "source": [
    "## 画损失函数图"
   ],
   "metadata": {
    "collapsed": false
   },
   "id": "15dd4d24c88e0cb8"
  },
  {
   "cell_type": "code",
   "outputs": [
    {
     "data": {
      "text/plain": "<Figure size 640x480 with 1 Axes>",
      "image/png": "[encoded data removed]"
     },
     "metadata": {},
     "output_type": "display_data"
    }
   ],
   "source": [
    "fig = plt.figure()\n",
    "plt.plot(loss_list)\n",
    "plt.xlabel('Epoch')\n",
    "plt.ylabel('Loss')\n",
    "plt.title('Loss vs Epoch')\n",
    "plt.show()"
   ],
   "metadata": {
    "collapsed": false,
    "ExecuteTime": {
     "end_time": "2024-11-14T12:25:22.203382Z",
     "start_time": "2024-11-14T12:25:22.018445Z"
    }
   },
   "id": "d8b12e893300e203",
   "execution_count": 51
  },
  {
   "cell_type": "markdown",
   "source": [
    "### 预测"
   ],
   "metadata": {
    "collapsed": false
   },
   "id": "2ae4f99f4d1cb9a5"
  },
  {
   "cell_type": "code",
   "outputs": [],
   "source": [
    "model.eval()\n",
    "x_p = test_data[:,:-1]\n",
    "y_v = test_data[:,-1]\n",
    "x_p= torch.from_numpy(x_p).float().unsqueeze(-1)\n",
    "y_p = model(x_p)"
   ],
   "metadata": {
    "collapsed": false,
    "ExecuteTime": {
     "end_time": "2024-11-14T12:25:22.218305Z",
     "start_time": "2024-11-14T12:25:22.205478Z"
    }
   },
   "id": "d52f5f467e6cb5c3",
   "execution_count": 52
  },
  {
   "cell_type": "code",
   "outputs": [
    {
     "name": "stdout",
     "output_type": "stream",
     "text": [
      "[0.68046516 0.677805   0.6761792  0.68035084 0.68950427 0.69783187\n",
      " 0.70552015 0.7105902  0.71638024 0.72207654 0.7280159  0.73336446\n",
      " 0.73855877 0.73802805 0.73283815 0.7250738  0.71596885 0.7039383\n",
      " 0.6909162  0.67404664 0.6555657  0.6445649  0.62964654 0.6170789\n",
      " 0.60493153 0.5952745  0.59107435 0.59601295 0.6031548  0.60605216\n",
      " 0.6128559  0.6187191  0.6227696  0.6255641  0.62589186 0.6263983\n",
      " 0.6338122  0.64520633 0.6572702  0.66988176 0.6787219  0.68388426\n",
      " 0.68863356 0.69211924 0.688917   0.6799123  0.66743207 0.65474546\n",
      " 0.6489155  0.64387965 0.64449656 0.6480842  0.65197754 0.65420234\n",
      " 0.64991945 0.6422368  0.63157237 0.62545186 0.62408626 0.63049257\n",
      " 0.64369965 0.65958977 0.67858326 0.69454646 0.70752084 0.71673226\n",
      " 0.72209203 0.72405446 0.7290052  0.7307618  0.7277291  0.72698665\n",
      " 0.7255708  0.7229959  0.717679   0.7158971  0.71693224 0.7200476\n",
      " 0.7271027  0.7364675  0.74648327 0.7618784  0.77838695 0.79336023\n",
      " 0.80428654 0.8159157  0.8161784  0.81087077 0.80350983 0.78724265\n",
      " 0.7745794  0.7632594  0.7567092  0.752427   0.7489645  0.7515753\n",
      " 0.76337045 0.77467847 0.7827371  0.7907945  0.79435605 0.7868358\n",
      " 0.7774687  0.7674693  0.7601671  0.765447   0.77312565 0.7814075\n",
      " 0.7882738  0.79587746 0.7965459  0.79343325 0.7897137  0.7818754\n",
      " 0.77764004 0.775687   0.7768345  0.77500916 0.77270573 0.7674421\n",
      " 0.7598164  0.75419873 0.7487884  0.7461857  0.74335086 0.74306166\n",
      " 0.7469722  0.75309634 0.757898   0.75762343 0.75501835 0.74912083\n",
      " 0.74306816 0.7377134  0.7343353  0.7302394  0.72480917 0.71878976\n",
      " 0.7107327  0.7004324  0.68806577 0.6756134  0.6640964  0.65352845\n",
      " 0.6433661 ]\n"
     ]
    }
   ],
   "source": [
    "y_p = y_p.detach().numpy()\n",
    "y_p = np.ravel(y_p)   # ravel-数据平铺\n",
    "y_v = np.ravel(y_v)\n",
    "print(y_p)"
   ],
   "metadata": {
    "collapsed": false,
    "ExecuteTime": {
     "end_time": "2024-11-14T12:25:22.240332Z",
     "start_time": "2024-11-14T12:25:22.219409Z"
    }
   },
   "id": "c5820cebb6331821",
   "execution_count": 53
  },
  {
   "cell_type": "code",
   "outputs": [
    {
     "data": {
      "text/plain": "<Figure size 640x480 with 1 Axes>",
      "image/png": "[encoded data removed]"
     },
     "metadata": {},
     "output_type": "display_data"
    }
   ],
   "source": [
    "fig2 = plt.figure()\n",
    "plt.plot(y_p,'*-b',label='pre')\n",
    "plt.plot(y_v,'*-y',label='value')\n",
    "plt.title('prediction')\n",
    "plt.xlabel('time')\n",
    "plt.ylabel('price')\n",
    "plt.legend()\n",
    "plt.show()"
   ],
   "metadata": {
    "collapsed": false,
    "ExecuteTime": {
     "end_time": "2024-11-14T12:25:22.458083Z",
     "start_time": "2024-11-14T12:25:22.241417Z"
    }
   },
   "id": "5d32d0a36fc08706",
   "execution_count": 54
  },
  {
   "cell_type": "code",
   "outputs": [
    {
     "name": "stdout",
     "output_type": "stream",
     "text": [
      "(145,)\n"
     ]
    }
   ],
   "source": [
    "print(y_p.shape)"
   ],
   "metadata": {
    "collapsed": false,
    "ExecuteTime": {
     "end_time": "2024-11-14T12:25:22.473801Z",
     "start_time": "2024-11-14T12:25:22.461227Z"
    }
   },
   "id": "b947717f5d3d3767",
   "execution_count": 55
  },
  {
   "cell_type": "code",
   "outputs": [],
   "source": [],
   "metadata": {
    "collapsed": false,
    "ExecuteTime": {
     "end_time": "2024-11-14T12:25:22.489474Z",
     "start_time": "2024-11-14T12:25:22.474986Z"
    }
   },
   "id": "91e67b5b1887993c",
   "execution_count": 55
  }
 ],
 "metadata": {
  "kernelspec": {
   "display_name": "Python 3",
   "language": "python",
   "name": "python3"
  },
  "language_info": {
   "codemirror_mode": {
    "name": "ipython",
    "version": 2
   },
   "file_extension": ".py",
   "mimetype": "text/x-python",
   "name": "python",
   "nbconvert_exporter": "python",
   "pygments_lexer": "ipython2",
   "version": "2.7.6"
  }
 },
 "nbformat": 4,
 "nbformat_minor": 5
}
